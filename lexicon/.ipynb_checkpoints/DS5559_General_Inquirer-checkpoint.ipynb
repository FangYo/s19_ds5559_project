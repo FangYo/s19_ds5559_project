{
 "cells": [
  {
   "cell_type": "markdown",
   "metadata": {},
   "source": [
    "# Synopsis\n",
    "\n",
    "Convert [General Inquirer lexicon](http://www.wjh.harvard.edu/~inquirer/spreadsheet_guide.htm) into usable form. Download [the spreadsheet](http://www.wjh.harvard.edu/~inquirer/inquirerbasic.xls)."
   ]
  },
  {
   "cell_type": "markdown",
   "metadata": {},
   "source": [
    "# Libraries"
   ]
  },
  {
   "cell_type": "code",
   "execution_count": 1,
   "metadata": {},
   "outputs": [],
   "source": [
    "import pandas as pd\n",
    "import numpy as np"
   ]
  },
  {
   "cell_type": "markdown",
   "metadata": {},
   "source": [
    "# Pragmas"
   ]
  },
  {
   "cell_type": "code",
   "execution_count": 2,
   "metadata": {},
   "outputs": [],
   "source": [
    "%matplotlib inline"
   ]
  },
  {
   "cell_type": "markdown",
   "metadata": {
    "toc-hr-collapsed": false
   },
   "source": [
    "# Process"
   ]
  },
  {
   "cell_type": "markdown",
   "metadata": {},
   "source": [
    "## Import Excel file \n",
    "\n",
    "It has 182 ontology/sentiment columns"
   ]
  },
  {
   "cell_type": "code",
   "execution_count": 3,
   "metadata": {},
   "outputs": [],
   "source": [
    "df = pd.read_excel('inquirerbasic.xls', false_values=None)"
   ]
  },
  {
   "cell_type": "code",
   "execution_count": 4,
   "metadata": {},
   "outputs": [
    {
     "data": {
      "text/html": [
       "<div>\n",
       "<style scoped>\n",
       "    .dataframe tbody tr th:only-of-type {\n",
       "        vertical-align: middle;\n",
       "    }\n",
       "\n",
       "    .dataframe tbody tr th {\n",
       "        vertical-align: top;\n",
       "    }\n",
       "\n",
       "    .dataframe thead th {\n",
       "        text-align: right;\n",
       "    }\n",
       "</style>\n",
       "<table border=\"1\" class=\"dataframe\">\n",
       "  <thead>\n",
       "    <tr style=\"text-align: right;\">\n",
       "      <th></th>\n",
       "      <th>Entry</th>\n",
       "      <th>Source</th>\n",
       "      <th>Positiv</th>\n",
       "      <th>Negativ</th>\n",
       "      <th>Pstv</th>\n",
       "      <th>Affil</th>\n",
       "      <th>Ngtv</th>\n",
       "      <th>Hostile</th>\n",
       "      <th>Strong</th>\n",
       "      <th>Power</th>\n",
       "      <th>...</th>\n",
       "      <th>Anomie</th>\n",
       "      <th>NegAff</th>\n",
       "      <th>PosAff</th>\n",
       "      <th>SureLw</th>\n",
       "      <th>If</th>\n",
       "      <th>NotLw</th>\n",
       "      <th>TimeSpc</th>\n",
       "      <th>FormLw</th>\n",
       "      <th>Othtags</th>\n",
       "      <th>Defined</th>\n",
       "    </tr>\n",
       "  </thead>\n",
       "  <tbody>\n",
       "    <tr>\n",
       "      <th>10254</th>\n",
       "      <td>SWEAT#1</td>\n",
       "      <td>H4Lvd</td>\n",
       "      <td>NaN</td>\n",
       "      <td>NaN</td>\n",
       "      <td>NaN</td>\n",
       "      <td>NaN</td>\n",
       "      <td>NaN</td>\n",
       "      <td>NaN</td>\n",
       "      <td>NaN</td>\n",
       "      <td>NaN</td>\n",
       "      <td>...</td>\n",
       "      <td>NaN</td>\n",
       "      <td>NaN</td>\n",
       "      <td>NaN</td>\n",
       "      <td>NaN</td>\n",
       "      <td>NaN</td>\n",
       "      <td>NaN</td>\n",
       "      <td>NaN</td>\n",
       "      <td>NaN</td>\n",
       "      <td>Noun</td>\n",
       "      <td>|</td>\n",
       "    </tr>\n",
       "    <tr>\n",
       "      <th>4338</th>\n",
       "      <td>FRAMEWORK</td>\n",
       "      <td>H4Lvd</td>\n",
       "      <td>NaN</td>\n",
       "      <td>NaN</td>\n",
       "      <td>NaN</td>\n",
       "      <td>NaN</td>\n",
       "      <td>NaN</td>\n",
       "      <td>NaN</td>\n",
       "      <td>NaN</td>\n",
       "      <td>NaN</td>\n",
       "      <td>...</td>\n",
       "      <td>NaN</td>\n",
       "      <td>NaN</td>\n",
       "      <td>NaN</td>\n",
       "      <td>NaN</td>\n",
       "      <td>NaN</td>\n",
       "      <td>NaN</td>\n",
       "      <td>TimeSpc</td>\n",
       "      <td>NaN</td>\n",
       "      <td>Noun</td>\n",
       "      <td>|</td>\n",
       "    </tr>\n",
       "    <tr>\n",
       "      <th>5113</th>\n",
       "      <td>HOSPITALITY</td>\n",
       "      <td>Lvd</td>\n",
       "      <td>NaN</td>\n",
       "      <td>NaN</td>\n",
       "      <td>NaN</td>\n",
       "      <td>NaN</td>\n",
       "      <td>NaN</td>\n",
       "      <td>NaN</td>\n",
       "      <td>NaN</td>\n",
       "      <td>NaN</td>\n",
       "      <td>...</td>\n",
       "      <td>NaN</td>\n",
       "      <td>NaN</td>\n",
       "      <td>NaN</td>\n",
       "      <td>NaN</td>\n",
       "      <td>NaN</td>\n",
       "      <td>NaN</td>\n",
       "      <td>NaN</td>\n",
       "      <td>NaN</td>\n",
       "      <td>Noun</td>\n",
       "      <td>NaN</td>\n",
       "    </tr>\n",
       "    <tr>\n",
       "      <th>8848</th>\n",
       "      <td>ROOM#4</td>\n",
       "      <td>H4Lvd</td>\n",
       "      <td>NaN</td>\n",
       "      <td>NaN</td>\n",
       "      <td>NaN</td>\n",
       "      <td>NaN</td>\n",
       "      <td>NaN</td>\n",
       "      <td>NaN</td>\n",
       "      <td>NaN</td>\n",
       "      <td>NaN</td>\n",
       "      <td>...</td>\n",
       "      <td>NaN</td>\n",
       "      <td>NaN</td>\n",
       "      <td>NaN</td>\n",
       "      <td>NaN</td>\n",
       "      <td>NaN</td>\n",
       "      <td>NaN</td>\n",
       "      <td>NaN</td>\n",
       "      <td>NaN</td>\n",
       "      <td>Noun</td>\n",
       "      <td>| 1% idiom-noun: 'room and board'--referring t...</td>\n",
       "    </tr>\n",
       "    <tr>\n",
       "      <th>8830</th>\n",
       "      <td>ROLL#1</td>\n",
       "      <td>H4Lvd</td>\n",
       "      <td>NaN</td>\n",
       "      <td>NaN</td>\n",
       "      <td>NaN</td>\n",
       "      <td>NaN</td>\n",
       "      <td>NaN</td>\n",
       "      <td>NaN</td>\n",
       "      <td>NaN</td>\n",
       "      <td>NaN</td>\n",
       "      <td>...</td>\n",
       "      <td>NaN</td>\n",
       "      <td>NaN</td>\n",
       "      <td>NaN</td>\n",
       "      <td>NaN</td>\n",
       "      <td>NaN</td>\n",
       "      <td>NaN</td>\n",
       "      <td>NaN</td>\n",
       "      <td>NaN</td>\n",
       "      <td>SUPV PFREQ</td>\n",
       "      <td>| 84% verb: To turn over, revolve, wind, undul...</td>\n",
       "    </tr>\n",
       "    <tr>\n",
       "      <th>3628</th>\n",
       "      <td>ESSENCE</td>\n",
       "      <td>H4Lvd</td>\n",
       "      <td>NaN</td>\n",
       "      <td>NaN</td>\n",
       "      <td>NaN</td>\n",
       "      <td>NaN</td>\n",
       "      <td>NaN</td>\n",
       "      <td>NaN</td>\n",
       "      <td>Strong</td>\n",
       "      <td>NaN</td>\n",
       "      <td>...</td>\n",
       "      <td>NaN</td>\n",
       "      <td>NaN</td>\n",
       "      <td>NaN</td>\n",
       "      <td>NaN</td>\n",
       "      <td>NaN</td>\n",
       "      <td>NaN</td>\n",
       "      <td>NaN</td>\n",
       "      <td>NaN</td>\n",
       "      <td>Noun</td>\n",
       "      <td>|</td>\n",
       "    </tr>\n",
       "    <tr>\n",
       "      <th>11742</th>\n",
       "      <td>YEAR#1</td>\n",
       "      <td>H4Lvd</td>\n",
       "      <td>NaN</td>\n",
       "      <td>NaN</td>\n",
       "      <td>NaN</td>\n",
       "      <td>NaN</td>\n",
       "      <td>NaN</td>\n",
       "      <td>NaN</td>\n",
       "      <td>NaN</td>\n",
       "      <td>NaN</td>\n",
       "      <td>...</td>\n",
       "      <td>NaN</td>\n",
       "      <td>NaN</td>\n",
       "      <td>NaN</td>\n",
       "      <td>NaN</td>\n",
       "      <td>NaN</td>\n",
       "      <td>NaN</td>\n",
       "      <td>TimeSpc</td>\n",
       "      <td>NaN</td>\n",
       "      <td>Noun PFREQ</td>\n",
       "      <td>| 88% noun: A period of 365 days</td>\n",
       "    </tr>\n",
       "    <tr>\n",
       "      <th>3578</th>\n",
       "      <td>ENTRANCE#2</td>\n",
       "      <td>H4Lvd</td>\n",
       "      <td>NaN</td>\n",
       "      <td>NaN</td>\n",
       "      <td>NaN</td>\n",
       "      <td>NaN</td>\n",
       "      <td>NaN</td>\n",
       "      <td>NaN</td>\n",
       "      <td>NaN</td>\n",
       "      <td>NaN</td>\n",
       "      <td>...</td>\n",
       "      <td>NaN</td>\n",
       "      <td>NaN</td>\n",
       "      <td>NaN</td>\n",
       "      <td>NaN</td>\n",
       "      <td>NaN</td>\n",
       "      <td>NaN</td>\n",
       "      <td>NaN</td>\n",
       "      <td>NaN</td>\n",
       "      <td>Noun</td>\n",
       "      <td>| 19% noun-adj: Admission, coming or going in</td>\n",
       "    </tr>\n",
       "    <tr>\n",
       "      <th>9389</th>\n",
       "      <td>SHUN</td>\n",
       "      <td>H4</td>\n",
       "      <td>NaN</td>\n",
       "      <td>Negativ</td>\n",
       "      <td>NaN</td>\n",
       "      <td>Affil</td>\n",
       "      <td>NaN</td>\n",
       "      <td>Hostile</td>\n",
       "      <td>NaN</td>\n",
       "      <td>NaN</td>\n",
       "      <td>...</td>\n",
       "      <td>NaN</td>\n",
       "      <td>NaN</td>\n",
       "      <td>NaN</td>\n",
       "      <td>NaN</td>\n",
       "      <td>NaN</td>\n",
       "      <td>NaN</td>\n",
       "      <td>NaN</td>\n",
       "      <td>NaN</td>\n",
       "      <td>SUPV Other</td>\n",
       "      <td>|</td>\n",
       "    </tr>\n",
       "    <tr>\n",
       "      <th>2764</th>\n",
       "      <td>DEMOCRATIC#1</td>\n",
       "      <td>Lvd</td>\n",
       "      <td>NaN</td>\n",
       "      <td>NaN</td>\n",
       "      <td>NaN</td>\n",
       "      <td>NaN</td>\n",
       "      <td>NaN</td>\n",
       "      <td>NaN</td>\n",
       "      <td>NaN</td>\n",
       "      <td>NaN</td>\n",
       "      <td>...</td>\n",
       "      <td>NaN</td>\n",
       "      <td>NaN</td>\n",
       "      <td>NaN</td>\n",
       "      <td>NaN</td>\n",
       "      <td>NaN</td>\n",
       "      <td>NaN</td>\n",
       "      <td>NaN</td>\n",
       "      <td>NaN</td>\n",
       "      <td>Modif POLIT</td>\n",
       "      <td>NaN</td>\n",
       "    </tr>\n",
       "  </tbody>\n",
       "</table>\n",
       "<p>10 rows × 186 columns</p>\n",
       "</div>"
      ],
      "text/plain": [
       "              Entry Source Positiv  Negativ Pstv  Affil Ngtv  Hostile  Strong  \\\n",
       "10254       SWEAT#1  H4Lvd     NaN      NaN  NaN    NaN  NaN      NaN     NaN   \n",
       "4338      FRAMEWORK  H4Lvd     NaN      NaN  NaN    NaN  NaN      NaN     NaN   \n",
       "5113    HOSPITALITY    Lvd     NaN      NaN  NaN    NaN  NaN      NaN     NaN   \n",
       "8848         ROOM#4  H4Lvd     NaN      NaN  NaN    NaN  NaN      NaN     NaN   \n",
       "8830         ROLL#1  H4Lvd     NaN      NaN  NaN    NaN  NaN      NaN     NaN   \n",
       "3628        ESSENCE  H4Lvd     NaN      NaN  NaN    NaN  NaN      NaN  Strong   \n",
       "11742        YEAR#1  H4Lvd     NaN      NaN  NaN    NaN  NaN      NaN     NaN   \n",
       "3578     ENTRANCE#2  H4Lvd     NaN      NaN  NaN    NaN  NaN      NaN     NaN   \n",
       "9389           SHUN     H4     NaN  Negativ  NaN  Affil  NaN  Hostile     NaN   \n",
       "2764   DEMOCRATIC#1    Lvd     NaN      NaN  NaN    NaN  NaN      NaN     NaN   \n",
       "\n",
       "      Power  ... Anomie NegAff PosAff SureLw   If NotLw  TimeSpc FormLw  \\\n",
       "10254   NaN  ...    NaN    NaN    NaN    NaN  NaN   NaN      NaN    NaN   \n",
       "4338    NaN  ...    NaN    NaN    NaN    NaN  NaN   NaN  TimeSpc    NaN   \n",
       "5113    NaN  ...    NaN    NaN    NaN    NaN  NaN   NaN      NaN    NaN   \n",
       "8848    NaN  ...    NaN    NaN    NaN    NaN  NaN   NaN      NaN    NaN   \n",
       "8830    NaN  ...    NaN    NaN    NaN    NaN  NaN   NaN      NaN    NaN   \n",
       "3628    NaN  ...    NaN    NaN    NaN    NaN  NaN   NaN      NaN    NaN   \n",
       "11742   NaN  ...    NaN    NaN    NaN    NaN  NaN   NaN  TimeSpc    NaN   \n",
       "3578    NaN  ...    NaN    NaN    NaN    NaN  NaN   NaN      NaN    NaN   \n",
       "9389    NaN  ...    NaN    NaN    NaN    NaN  NaN   NaN      NaN    NaN   \n",
       "2764    NaN  ...    NaN    NaN    NaN    NaN  NaN   NaN      NaN    NaN   \n",
       "\n",
       "           Othtags                                            Defined  \n",
       "10254         Noun                                                  |  \n",
       "4338          Noun                                                  |  \n",
       "5113          Noun                                                NaN  \n",
       "8848          Noun  | 1% idiom-noun: 'room and board'--referring t...  \n",
       "8830    SUPV PFREQ  | 84% verb: To turn over, revolve, wind, undul...  \n",
       "3628          Noun                                                  |  \n",
       "11742   Noun PFREQ                   | 88% noun: A period of 365 days  \n",
       "3578          Noun      | 19% noun-adj: Admission, coming or going in  \n",
       "9389    SUPV Other                                                  |  \n",
       "2764   Modif POLIT                                                NaN  \n",
       "\n",
       "[10 rows x 186 columns]"
      ]
     },
     "execution_count": 4,
     "metadata": {},
     "output_type": "execute_result"
    }
   ],
   "source": [
    "df.sample(10)"
   ]
  },
  {
   "cell_type": "markdown",
   "metadata": {},
   "source": [
    "## Handle variant terms "
   ]
  },
  {
   "cell_type": "code",
   "execution_count": 5,
   "metadata": {},
   "outputs": [],
   "source": [
    "df['split'] = df.Entry.str.split(r'[#_]+')"
   ]
  },
  {
   "cell_type": "code",
   "execution_count": 6,
   "metadata": {},
   "outputs": [],
   "source": [
    "# Function to add 1 to terms without variants\n",
    "def add_1(x):\n",
    "    try:\n",
    "        if len(x) == 1:\n",
    "            x = x + [1]\n",
    "    except:\n",
    "        print(x)\n",
    "        x = 0\n",
    "    return x"
   ]
  },
  {
   "cell_type": "code",
   "execution_count": 45,
   "metadata": {},
   "outputs": [
    {
     "data": {
      "text/plain": [
       "0                  [A, 1]\n",
       "1            [ABANDON, 1]\n",
       "2        [ABANDONMENT, 1]\n",
       "3              [ABATE, 1]\n",
       "4          [ABATEMENT, 1]\n",
       "5           [ABDICATE, 1]\n",
       "6              [ABHOR, 1]\n",
       "7              [ABIDE, 1]\n",
       "8            [ABILITY, 1]\n",
       "9             [ABJECT, 1]\n",
       "10              [ABLE, 1]\n",
       "11          [ABNORMAL, 1]\n",
       "12            [ABOARD, 1]\n",
       "13           [ABOLISH, 1]\n",
       "14         [ABOLITION, 1]\n",
       "15        [ABOMINABLE, 1]\n",
       "16          [ABORTIVE, 1]\n",
       "17            [ABOUND, 1]\n",
       "18             [ABOUT, 1]\n",
       "19             [ABOUT, 2]\n",
       "20             [ABOUT, 3]\n",
       "21             [ABOUT, 4]\n",
       "22             [ABOUT, 5]\n",
       "23             [ABOUT, 6]\n",
       "24             [ABOUT, 7]\n",
       "25             [ABOVE, 1]\n",
       "26             [ABOVE, 2]\n",
       "27             [ABOVE, 3]\n",
       "28             [ABOVE, 4]\n",
       "29          [ABRASIVE, 1]\n",
       "               ...       \n",
       "11758          [YIELD, 2]\n",
       "11759           [YOKE, 1]\n",
       "11760         [YONDER, 1]\n",
       "11761           [YORK, 1]\n",
       "11762            [YOU, 1]\n",
       "11763            [YOU, 2]\n",
       "11764            [YOU, 3]\n",
       "11765            [YOU, 4]\n",
       "11766          [YOUNG, 1]\n",
       "11767          [YOUNG, 2]\n",
       "11768          [YOUNG, 3]\n",
       "11769      [YOUNGSTER, 1]\n",
       "11770           [YOUR, 1]\n",
       "11771          [YOURS, 1]\n",
       "11772       [YOURSELF, 1]\n",
       "11773     [YOURSELVES, 1]\n",
       "11774          [YOUTH, 1]\n",
       "11775          [YOUTH, 2]\n",
       "11776       [YOUTHFUL, 1]\n",
       "11777     [YUGOSLAVIA, 1]\n",
       "11778           [ZEAL, 1]\n",
       "11779        [ZEALAND, 1]\n",
       "11780        [ZEALAND, 2]\n",
       "11781        [ZEALOUS, 1]\n",
       "11782            [ZEN, 1]\n",
       "11783         [ZENITH, 1]\n",
       "11784           [ZERO, 1]\n",
       "11785           [ZEST, 1]\n",
       "11786           [ZINC, 1]\n",
       "11787           [ZONE, 1]\n",
       "Name: split, Length: 11788, dtype: object"
      ]
     },
     "execution_count": 45,
     "metadata": {},
     "output_type": "execute_result"
    }
   ],
   "source": [
    "df['split'].iloc[0,]"
   ]
  },
  {
   "cell_type": "code",
   "execution_count": 61,
   "metadata": {},
   "outputs": [
    {
     "name": "stdout",
     "output_type": "stream",
     "text": [
      "0\n"
     ]
    },
    {
     "ename": "TypeError",
     "evalue": "'int' object is not subscriptable",
     "output_type": "error",
     "traceback": [
      "\u001b[1;31m---------------------------------------------------------------------------\u001b[0m",
      "\u001b[1;31mTypeError\u001b[0m                                 Traceback (most recent call last)",
      "\u001b[1;32m<ipython-input-61-9ba8cb969c14>\u001b[0m in \u001b[0;36m<module>\u001b[1;34m\u001b[0m\n\u001b[0;32m      5\u001b[0m \u001b[1;33m\u001b[0m\u001b[0m\n\u001b[0;32m      6\u001b[0m \u001b[1;32mfor\u001b[0m \u001b[0mi\u001b[0m \u001b[1;32min\u001b[0m \u001b[0mrange\u001b[0m\u001b[1;33m(\u001b[0m\u001b[0mlen\u001b[0m\u001b[1;33m(\u001b[0m\u001b[0mdf\u001b[0m\u001b[1;33m[\u001b[0m\u001b[1;34m'split'\u001b[0m\u001b[1;33m]\u001b[0m\u001b[1;33m)\u001b[0m\u001b[1;33m)\u001b[0m\u001b[1;33m:\u001b[0m\u001b[1;33m\u001b[0m\u001b[1;33m\u001b[0m\u001b[0m\n\u001b[1;32m----> 7\u001b[1;33m     \u001b[0mterm_str\u001b[0m\u001b[1;33m[\u001b[0m\u001b[0mi\u001b[0m\u001b[1;33m]\u001b[0m \u001b[1;33m=\u001b[0m \u001b[0mdf\u001b[0m\u001b[1;33m[\u001b[0m\u001b[1;34m'split'\u001b[0m\u001b[1;33m]\u001b[0m\u001b[1;33m[\u001b[0m\u001b[0mi\u001b[0m\u001b[1;33m]\u001b[0m\u001b[1;33m[\u001b[0m\u001b[1;36m0\u001b[0m\u001b[1;33m]\u001b[0m\u001b[1;33m.\u001b[0m\u001b[0mlower\u001b[0m\u001b[1;33m(\u001b[0m\u001b[1;33m)\u001b[0m\u001b[1;33m\u001b[0m\u001b[1;33m\u001b[0m\u001b[0m\n\u001b[0m\u001b[0;32m      8\u001b[0m     \u001b[0mterm_var\u001b[0m\u001b[1;33m[\u001b[0m\u001b[0mi\u001b[0m\u001b[1;33m]\u001b[0m \u001b[1;33m=\u001b[0m \u001b[0mdf\u001b[0m\u001b[1;33m[\u001b[0m\u001b[1;34m'split'\u001b[0m\u001b[1;33m]\u001b[0m\u001b[1;33m[\u001b[0m\u001b[0mi\u001b[0m\u001b[1;33m]\u001b[0m\u001b[1;33m[\u001b[0m\u001b[1;36m1\u001b[0m\u001b[1;33m]\u001b[0m\u001b[1;33m\u001b[0m\u001b[1;33m\u001b[0m\u001b[0m\n\u001b[0;32m      9\u001b[0m \u001b[1;33m\u001b[0m\u001b[0m\n",
      "\u001b[1;31mTypeError\u001b[0m: 'int' object is not subscriptable"
     ]
    }
   ],
   "source": [
    "df['split'] = df['split'].apply(add_1)\n",
    "\n",
    "df['term_str'] = df['split'].apply(lambda x: x[0].lower(), 1)\n",
    "df['term_var'] = df['split'].apply(lambda x: x[1], 1)\n",
    "df = df.set_index(['term_str', 'term_var'])"
   ]
  },
  {
   "cell_type": "code",
   "execution_count": 65,
   "metadata": {},
   "outputs": [
    {
     "data": {
      "text/plain": [
       "0"
      ]
     },
     "execution_count": 65,
     "metadata": {},
     "output_type": "execute_result"
    }
   ],
   "source": [
    "df['split'][3899]"
   ]
  },
  {
   "cell_type": "code",
   "execution_count": null,
   "metadata": {},
   "outputs": [],
   "source": [
    "df.head()"
   ]
  },
  {
   "cell_type": "markdown",
   "metadata": {},
   "source": [
    "## Convert column values to numbers"
   ]
  },
  {
   "cell_type": "code",
   "execution_count": null,
   "metadata": {},
   "outputs": [],
   "source": [
    "try:\n",
    "    df.loc[df.Positiv == 'Positiv', 'polarity'] = 1\n",
    "    df.loc[df.Negativ == 'Negativ', 'polarity'] = -1\n",
    "    df['polarity'] = df['polarity'].fillna(0)\n",
    "except TypeError as e:\n",
    "    print(e, \"--  This means you are re-running the script with values that have already been set.\")"
   ]
  },
  {
   "cell_type": "code",
   "execution_count": null,
   "metadata": {},
   "outputs": [],
   "source": [
    "df.polarity.sample(10)"
   ]
  },
  {
   "cell_type": "code",
   "execution_count": null,
   "metadata": {},
   "outputs": [],
   "source": [
    "VALCOLS = df.columns[2:-4]"
   ]
  },
  {
   "cell_type": "code",
   "execution_count": null,
   "metadata": {},
   "outputs": [],
   "source": [
    "for col in VALCOLS:\n",
    "    df[col] = df[col].fillna(0).astype('bool').astype('int')"
   ]
  },
  {
   "cell_type": "code",
   "execution_count": null,
   "metadata": {},
   "outputs": [],
   "source": [
    "df.loc['love', VALCOLS].stack().sort_values(ascending=False)"
   ]
  },
  {
   "cell_type": "code",
   "execution_count": null,
   "metadata": {},
   "outputs": [],
   "source": [
    "# # Handle terms with multiple entries\n",
    "# VAR_COUNTS = df.reset_index().groupby(['term_str']).term_var.count()\\\n",
    "#     .to_frame().rename(columns={'term_var':'n_vars'})\n",
    "# SINGLES = VAR_COUNTS == 1\n",
    "# SINGLES.head()\n",
    "# df.loc['a'].T\n",
    "# df.loc[SINGLES.n_vars.values]"
   ]
  },
  {
   "cell_type": "markdown",
   "metadata": {
    "toc-hr-collapsed": true
   },
   "source": [
    "## Take and combine only sentiment "
   ]
  },
  {
   "cell_type": "code",
   "execution_count": null,
   "metadata": {},
   "outputs": [],
   "source": [
    "sents = df.query(\"Positiv > 0 | Negativ > 0\").copy()"
   ]
  },
  {
   "cell_type": "code",
   "execution_count": null,
   "metadata": {},
   "outputs": [],
   "source": [
    "sents['sentiment'] =  sents.Positiv  - sents.Negativ"
   ]
  },
  {
   "cell_type": "code",
   "execution_count": null,
   "metadata": {},
   "outputs": [],
   "source": [
    "sents['sentiment'].sample(5)"
   ]
  },
  {
   "cell_type": "markdown",
   "metadata": {},
   "source": [
    "### Take average of variants"
   ]
  },
  {
   "cell_type": "code",
   "execution_count": null,
   "metadata": {},
   "outputs": [],
   "source": [
    "GI = sents.groupby('term_str').sentiment.mean()"
   ]
  },
  {
   "cell_type": "markdown",
   "metadata": {},
   "source": [
    "### Snap values to -1, 0, or 1"
   ]
  },
  {
   "cell_type": "code",
   "execution_count": null,
   "metadata": {},
   "outputs": [],
   "source": [
    "GI = np.sign(GI).astype('int').to_frame()"
   ]
  },
  {
   "cell_type": "code",
   "execution_count": null,
   "metadata": {},
   "outputs": [],
   "source": [
    "GI.shape"
   ]
  },
  {
   "cell_type": "code",
   "execution_count": null,
   "metadata": {},
   "outputs": [],
   "source": [
    "GI.head()"
   ]
  },
  {
   "cell_type": "markdown",
   "metadata": {
    "toc-hr-collapsed": true
   },
   "source": [
    "# Save"
   ]
  },
  {
   "cell_type": "code",
   "execution_count": null,
   "metadata": {},
   "outputs": [],
   "source": [
    "GI.to_csv('lexicons/gi.csv')"
   ]
  }
 ],
 "metadata": {
  "kernelspec": {
   "display_name": "Python 3",
   "language": "python",
   "name": "python3"
  },
  "language_info": {
   "codemirror_mode": {
    "name": "ipython",
    "version": 3
   },
   "file_extension": ".py",
   "mimetype": "text/x-python",
   "name": "python",
   "nbconvert_exporter": "python",
   "pygments_lexer": "ipython3",
   "version": "3.6.8"
  }
 },
 "nbformat": 4,
 "nbformat_minor": 2
}
